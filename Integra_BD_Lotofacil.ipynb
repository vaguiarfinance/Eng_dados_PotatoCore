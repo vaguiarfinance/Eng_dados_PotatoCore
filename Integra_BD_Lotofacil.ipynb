{
  "nbformat": 4,
  "nbformat_minor": 0,
  "metadata": {
    "colab": {
      "provenance": [],
      "authorship_tag": "ABX9TyOFNEl0R4xCOcnzY9n3Zz1i",
      "include_colab_link": true
    },
    "kernelspec": {
      "name": "python3",
      "display_name": "Python 3"
    },
    "language_info": {
      "name": "python"
    }
  },
  "cells": [
    {
      "cell_type": "markdown",
      "metadata": {
        "id": "view-in-github",
        "colab_type": "text"
      },
      "source": [
        "<a href=\"https://colab.research.google.com/github/vaguiarfinance/Eng_dados_PotatoCore/blob/main/Integra_BD_Lotofacil.ipynb\" target=\"_parent\"><img src=\"https://colab.research.google.com/assets/colab-badge.svg\" alt=\"Open In Colab\"/></a>"
      ]
    },
    {
      "cell_type": "code",
      "execution_count": 1,
      "metadata": {
        "id": "6d4KsiqRYBOd"
      },
      "outputs": [],
      "source": [
        "import psycopg2\n",
        "import pandas as pd"
      ]
    },
    {
      "cell_type": "code",
      "source": [
        "# Configurações de conexão com o banco de dados da PotatoCore\n",
        "db_config = {\n",
        "    'host': 'psql -h 179.188.16.126 -U cliente -W',\n",
        "    'port': '5513',\n",
        "    'dbname': 'Aguiarvini',\n",
        "    'user': 'Aguiar',\n",
        "    'password': 'Teste@12345'\n",
        "}\n",
        "\n",
        "# Configurações de consulta SQL para a Lotofácil\n",
        "lotofacil_query = \"SELECT * FROM Sorteios ;\"\n",
        "\n",
        "# Conectar ao banco de dados da PotatoCore\n",
        "try:\n",
        "    conn = psycopg2.connect(**db_config)\n",
        "    cursor = conn.cursor()\n",
        "\n",
        "    # Extrair dados da Lotofácil\n",
        "    lotofacil_data = pd.read_sql_query(lotofacil_query, conn)\n",
        "    lotofacil_data.to_sql('tabela_destino', conn, if_exists='replace', index=False)  # Use 'replace' ou 'append' conforme necessário\n",
        "\n",
        "    # Commit das alterações e fechamento da conexão\n",
        "    conn.commit()\n",
        "    cursor.close()\n",
        "    conn.close()\n",
        "\n",
        "    print(\"Processo de ETL concluído e banco de dados atualizado com sucesso!\")\n",
        "\n",
        "except Exception as e:\n",
        "    print(f\"Ocorreu um erro: {str(e)}\")"
      ],
      "metadata": {
        "id": "1ejYUWlAYT3j"
      },
      "execution_count": null,
      "outputs": []
    }
  ]
}