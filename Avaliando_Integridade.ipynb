{
  "nbformat": 4,
  "nbformat_minor": 0,
  "metadata": {
    "colab": {
      "provenance": [],
      "authorship_tag": "ABX9TyPDWJbJL51sl3eTQYlaAf4P",
      "include_colab_link": true
    },
    "kernelspec": {
      "name": "python3",
      "display_name": "Python 3"
    },
    "language_info": {
      "name": "python"
    }
  },
  "cells": [
    {
      "cell_type": "markdown",
      "metadata": {
        "id": "view-in-github",
        "colab_type": "text"
      },
      "source": [
        "<a href=\"https://colab.research.google.com/github/vaguiarfinance/Eng_dados_PotatoCore/blob/main/Avaliando_Integridade.ipynb\" target=\"_parent\"><img src=\"https://colab.research.google.com/assets/colab-badge.svg\" alt=\"Open In Colab\"/></a>"
      ]
    },
    {
      "cell_type": "code",
      "source": [
        "import pandas as pd"
      ],
      "metadata": {
        "id": "rYxgK_kBc_n1"
      },
      "execution_count": 1,
      "outputs": []
    },
    {
      "cell_type": "code",
      "execution_count": 2,
      "metadata": {
        "id": "ykpf9ysRcsSa"
      },
      "outputs": [],
      "source": [
        "def extrair_dados():\n",
        "    df = pd.read_excel('Lotofacil.xlsx')\n",
        "    return df"
      ]
    },
    {
      "cell_type": "code",
      "source": [
        "import unittest\n",
        "from etl import extrair_dados, transformar_dados, carregar_dados\n",
        "from dados import obter_dados_originais"
      ],
      "metadata": {
        "id": "C_w5EXURdd28"
      },
      "execution_count": null,
      "outputs": []
    },
    {
      "cell_type": "code",
      "source": [
        "\n",
        "class TestETL(unittest.TestCase):\n",
        "\n",
        "    def test_extracao(self):\n",
        "        # Teste de integridade antes da extração\n",
        "        dados_originais = obter_dados_originais()\n",
        "        self.assertEqual(len(dados_originais), 5)  # Verifica o número de registros esperado\n",
        "\n",
        "    def test_transformacao(self):\n",
        "        # Teste de integridade após a transformação\n",
        "        dados_originais = obter_dados_originais()\n",
        "        df_transformado = transformar_dados(dados_originais)\n",
        "        self.assertEqual(len(df_transformado), 5)  # Verifica o número de registros após a transformação\n",
        "        # Outras verificações de integridade específicas\n",
        "\n",
        "    def test_carregamento(self):\n",
        "        # Teste de integridade após o carregamento\n",
        "        dados_originais = obter_dados_originais()\n",
        "        df_transformado = transformar_dados(dados_originais)\n",
        "        resultado = carregar_dados(df_transformado)\n",
        "        self.assertTrue(resultado)  # Verifica se o carregamento foi bem-sucedido\n",
        "\n",
        "if __name__ == '__main__':\n",
        "    unittest.main()"
      ],
      "metadata": {
        "id": "hZiG-PAJdTAh"
      },
      "execution_count": null,
      "outputs": []
    }
  ]
}