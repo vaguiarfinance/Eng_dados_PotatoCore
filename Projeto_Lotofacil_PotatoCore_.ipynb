{
  "nbformat": 4,
  "nbformat_minor": 0,
  "metadata": {
    "colab": {
      "provenance": [],
      "authorship_tag": "ABX9TyMD9n9cNXSDBO9a2/Q8Ii6Z",
      "include_colab_link": true
    },
    "kernelspec": {
      "name": "python3",
      "display_name": "Python 3"
    },
    "language_info": {
      "name": "python"
    }
  },
  "cells": [
    {
      "cell_type": "markdown",
      "metadata": {
        "id": "view-in-github",
        "colab_type": "text"
      },
      "source": [
        "<a href=\"https://colab.research.google.com/github/vaguiarfinance/Eng_dados_PotatoCore/blob/main/Projeto_Lotofacil_PotatoCore_.ipynb\" target=\"_parent\"><img src=\"https://colab.research.google.com/assets/colab-badge.svg\" alt=\"Open In Colab\"/></a>"
      ]
    },
    {
      "cell_type": "markdown",
      "source": [
        "## Projeto de automação ETL dos dados da Lotofácil.\n",
        "\n"
      ],
      "metadata": {
        "id": "yPnLooaxtjDB"
      }
    },
    {
      "cell_type": "code",
      "source": [
        "pip install pandas"
      ],
      "metadata": {
        "colab": {
          "base_uri": "https://localhost:8080/"
        },
        "id": "RZgfagKuztks",
        "outputId": "4e3576eb-2814-4218-a1f2-5e05bb840985"
      },
      "execution_count": 39,
      "outputs": [
        {
          "output_type": "stream",
          "name": "stdout",
          "text": [
            "Requirement already satisfied: pandas in /usr/local/lib/python3.10/dist-packages (1.5.3)\n",
            "Requirement already satisfied: python-dateutil>=2.8.1 in /usr/local/lib/python3.10/dist-packages (from pandas) (2.8.2)\n",
            "Requirement already satisfied: pytz>=2020.1 in /usr/local/lib/python3.10/dist-packages (from pandas) (2023.3.post1)\n",
            "Requirement already satisfied: numpy>=1.21.0 in /usr/local/lib/python3.10/dist-packages (from pandas) (1.23.5)\n",
            "Requirement already satisfied: six>=1.5 in /usr/local/lib/python3.10/dist-packages (from python-dateutil>=2.8.1->pandas) (1.16.0)\n"
          ]
        }
      ]
    },
    {
      "cell_type": "code",
      "source": [
        "import requests\n",
        "import pandas as pd\n",
        "import seaborn as sns\n",
        "import matplotlib.pyplot as plt"
      ],
      "metadata": {
        "id": "cQQmoXOS2SDy"
      },
      "execution_count": 114,
      "outputs": []
    },
    {
      "cell_type": "code",
      "source": [
        "# URL direta para o arquivo Excel da Lotofácil\n",
        "url = \"https://dncgroupbr.notion.site/Engenheiro-a-de-Dados-Jr-7c864f99568745d393069004e8954eb3#:~:text=Os%20dados%20da,295.4KB\"\n",
        "response = requests.get(url)\n",
        "\n",
        "# Verifica se o download foi bem-sucedido\n",
        "if response.status_code == 200:\n",
        "    excel_data = BytesIO(response.content)\n",
        "    df = pd.read_excel('Lotofacil.xlsx')\n",
        "    print(df.head())\n",
        "\n",
        "else:\n",
        "    print(\"Falha ao baixar o arquivo Excel.\")\n"
      ],
      "metadata": {
        "colab": {
          "base_uri": "https://localhost:8080/"
        },
        "id": "fRNgd3Mh2kiv",
        "outputId": "776c8e46-53ae-4e11-cfe4-ac9d9f892d86"
      },
      "execution_count": 93,
      "outputs": [
        {
          "output_type": "stream",
          "name": "stdout",
          "text": [
            "   Concurso Data Sorteio  Bola1  Bola2  Bola3  Bola4  Bola5  Bola6  Bola7  \\\n",
            "0         1   29/09/2003      2      3      5      6      9     10     11   \n",
            "1         2   06/10/2003      1      4      5      6      7      9     11   \n",
            "2         3   13/10/2003      1      4      6      7      8      9     10   \n",
            "3         4   20/10/2003      1      2      4      5      8     10     12   \n",
            "4         5   27/10/2003      1      2      4      8      9     11     12   \n",
            "\n",
            "   Bola8  ...  Rateio 13 acertos  Ganhadores 12 acertos  Rateio 12 acertos  \\\n",
            "0     13  ...            R$10,00                  48807             R$4,00   \n",
            "1     12  ...            R$10,00                  81252             R$4,00   \n",
            "2     11  ...            R$10,00                  96244             R$4,00   \n",
            "3     13  ...            R$10,00                 123912             R$4,00   \n",
            "4     13  ...            R$10,00                 195636             R$4,00   \n",
            "\n",
            "   Ganhadores 11 acertos  Rateio 11 acertos  Acumulado 15 acertos  \\\n",
            "0                 257593             R$2,00                R$0,00   \n",
            "1                 478188             R$2,00                R$0,00   \n",
            "2                 608211             R$2,00                R$0,00   \n",
            "3                 706657             R$2,00                R$0,00   \n",
            "4                 860992             R$2,00                R$0,00   \n",
            "\n",
            "   Arrecadacao Total  Estimativa Prêmio  \\\n",
            "0             R$0,00             R$0,00   \n",
            "1             R$0,00             R$0,00   \n",
            "2             R$0,00             R$0,00   \n",
            "3             R$0,00             R$0,00   \n",
            "4             R$0,00             R$0,00   \n",
            "\n",
            "  Acumulado sorteio especial Lotofácil da Independência  \\\n",
            "0                                             R$0,00      \n",
            "1                                             R$0,00      \n",
            "2                                             R$0,00      \n",
            "3                                             R$0,00      \n",
            "4                                             R$0,00      \n",
            "\n",
            "                                          Observação  \n",
            "0  Estimativa de prêmio (15 ACERTOS) próximo conc...  \n",
            "1  ESTIMATIVA DE PRÊMIO PARA O PRÓXIMO CONCURSO (...  \n",
            "2  Estimativa de prêmio (15 ACERTOS) próximo conc...  \n",
            "3  Estimativa de prêmio (15 ACERTOS) próximo conc...  \n",
            "4  Estimativa de prêmio para o próximo concurso (...  \n",
            "\n",
            "[5 rows x 33 columns]\n"
          ]
        }
      ]
    },
    {
      "cell_type": "code",
      "source": [
        "# Avaliação dos Types e identificação de a planilha contém todos os campos preenchidos\n",
        "df.info()"
      ],
      "metadata": {
        "colab": {
          "base_uri": "https://localhost:8080/"
        },
        "id": "dG7bbX6C5g0n",
        "outputId": "24f29c6b-c945-4831-d07d-070bc0a95445"
      },
      "execution_count": 94,
      "outputs": [
        {
          "output_type": "stream",
          "name": "stdout",
          "text": [
            "<class 'pandas.core.frame.DataFrame'>\n",
            "RangeIndex: 2894 entries, 0 to 2893\n",
            "Data columns (total 33 columns):\n",
            " #   Column                                                 Non-Null Count  Dtype \n",
            "---  ------                                                 --------------  ----- \n",
            " 0   Concurso                                               2894 non-null   int64 \n",
            " 1   Data Sorteio                                           2894 non-null   object\n",
            " 2   Bola1                                                  2894 non-null   int64 \n",
            " 3   Bola2                                                  2894 non-null   int64 \n",
            " 4   Bola3                                                  2894 non-null   int64 \n",
            " 5   Bola4                                                  2894 non-null   int64 \n",
            " 6   Bola5                                                  2894 non-null   int64 \n",
            " 7   Bola6                                                  2894 non-null   int64 \n",
            " 8   Bola7                                                  2894 non-null   int64 \n",
            " 9   Bola8                                                  2894 non-null   int64 \n",
            " 10  Bola9                                                  2894 non-null   int64 \n",
            " 11  Bola10                                                 2894 non-null   int64 \n",
            " 12  Bola11                                                 2894 non-null   int64 \n",
            " 13  Bola12                                                 2894 non-null   int64 \n",
            " 14  Bola13                                                 2894 non-null   int64 \n",
            " 15  Bola14                                                 2894 non-null   int64 \n",
            " 16  Bola15                                                 2894 non-null   int64 \n",
            " 17  Ganhadores 15 acertos                                  2894 non-null   int64 \n",
            " 18  Cidade / UF                                            2592 non-null   object\n",
            " 19  Rateio 15 acertos                                      2894 non-null   object\n",
            " 20  Ganhadores 14 acertos                                  2894 non-null   int64 \n",
            " 21  Rateio 14 acertos                                      2894 non-null   object\n",
            " 22  Ganhadores 13 acertos                                  2894 non-null   int64 \n",
            " 23  Rateio 13 acertos                                      2894 non-null   object\n",
            " 24  Ganhadores 12 acertos                                  2894 non-null   int64 \n",
            " 25  Rateio 12 acertos                                      2894 non-null   object\n",
            " 26  Ganhadores 11 acertos                                  2894 non-null   int64 \n",
            " 27  Rateio 11 acertos                                      2894 non-null   object\n",
            " 28  Acumulado 15 acertos                                   2894 non-null   object\n",
            " 29  Arrecadacao Total                                      2894 non-null   object\n",
            " 30  Estimativa Prêmio                                      2894 non-null   object\n",
            " 31  Acumulado sorteio especial Lotofácil da Independência  2894 non-null   object\n",
            " 32  Observação                                             778 non-null    object\n",
            "dtypes: int64(21), object(12)\n",
            "memory usage: 746.2+ KB\n"
          ]
        }
      ]
    },
    {
      "cell_type": "code",
      "source": [
        "# Para identificar o número de Linhas antes\n",
        "num_linhas_antes = df.shape[0]\n",
        "print(f\"Número de linhas antes da remoção: {num_linhas_antes}\")"
      ],
      "metadata": {
        "colab": {
          "base_uri": "https://localhost:8080/"
        },
        "id": "_QN8PP3P-bjm",
        "outputId": "d0bd3c84-cfb1-4f4c-aaed-f596d48ef36d"
      },
      "execution_count": 95,
      "outputs": [
        {
          "output_type": "stream",
          "name": "stdout",
          "text": [
            "Número de linhas antes da remoção: 2894\n"
          ]
        }
      ]
    },
    {
      "cell_type": "code",
      "source": [
        "# Identificar valores duplicados\n",
        "df[df.duplicated(keep=False)]"
      ],
      "metadata": {
        "colab": {
          "base_uri": "https://localhost:8080/",
          "height": 168
        },
        "id": "wIOUkf5h6gsD",
        "outputId": "a6daf68a-2d3c-4f98-9784-3dd28d2584fc"
      },
      "execution_count": 96,
      "outputs": [
        {
          "output_type": "execute_result",
          "data": {
            "text/plain": [
              "Empty DataFrame\n",
              "Columns: [Concurso, Data Sorteio, Bola1, Bola2, Bola3, Bola4, Bola5, Bola6, Bola7, Bola8, Bola9, Bola10, Bola11, Bola12, Bola13, Bola14, Bola15, Ganhadores 15 acertos, Cidade / UF, Rateio 15 acertos, Ganhadores 14 acertos, Rateio 14 acertos, Ganhadores 13 acertos, Rateio 13 acertos, Ganhadores 12 acertos, Rateio 12 acertos, Ganhadores 11 acertos, Rateio 11 acertos, Acumulado 15 acertos, Arrecadacao Total, Estimativa Prêmio, Acumulado sorteio especial Lotofácil da Independência, Observação]\n",
              "Index: []\n",
              "\n",
              "[0 rows x 33 columns]"
            ],
            "text/html": [
              "\n",
              "  <div id=\"df-8538b71c-583f-40da-a332-d4ee368dbf71\" class=\"colab-df-container\">\n",
              "    <div>\n",
              "<style scoped>\n",
              "    .dataframe tbody tr th:only-of-type {\n",
              "        vertical-align: middle;\n",
              "    }\n",
              "\n",
              "    .dataframe tbody tr th {\n",
              "        vertical-align: top;\n",
              "    }\n",
              "\n",
              "    .dataframe thead th {\n",
              "        text-align: right;\n",
              "    }\n",
              "</style>\n",
              "<table border=\"1\" class=\"dataframe\">\n",
              "  <thead>\n",
              "    <tr style=\"text-align: right;\">\n",
              "      <th></th>\n",
              "      <th>Concurso</th>\n",
              "      <th>Data Sorteio</th>\n",
              "      <th>Bola1</th>\n",
              "      <th>Bola2</th>\n",
              "      <th>Bola3</th>\n",
              "      <th>Bola4</th>\n",
              "      <th>Bola5</th>\n",
              "      <th>Bola6</th>\n",
              "      <th>Bola7</th>\n",
              "      <th>Bola8</th>\n",
              "      <th>...</th>\n",
              "      <th>Rateio 13 acertos</th>\n",
              "      <th>Ganhadores 12 acertos</th>\n",
              "      <th>Rateio 12 acertos</th>\n",
              "      <th>Ganhadores 11 acertos</th>\n",
              "      <th>Rateio 11 acertos</th>\n",
              "      <th>Acumulado 15 acertos</th>\n",
              "      <th>Arrecadacao Total</th>\n",
              "      <th>Estimativa Prêmio</th>\n",
              "      <th>Acumulado sorteio especial Lotofácil da Independência</th>\n",
              "      <th>Observação</th>\n",
              "    </tr>\n",
              "  </thead>\n",
              "  <tbody>\n",
              "  </tbody>\n",
              "</table>\n",
              "<p>0 rows × 33 columns</p>\n",
              "</div>\n",
              "    <div class=\"colab-df-buttons\">\n",
              "\n",
              "  <div class=\"colab-df-container\">\n",
              "    <button class=\"colab-df-convert\" onclick=\"convertToInteractive('df-8538b71c-583f-40da-a332-d4ee368dbf71')\"\n",
              "            title=\"Convert this dataframe to an interactive table.\"\n",
              "            style=\"display:none;\">\n",
              "\n",
              "  <svg xmlns=\"http://www.w3.org/2000/svg\" height=\"24px\" viewBox=\"0 -960 960 960\">\n",
              "    <path d=\"M120-120v-720h720v720H120Zm60-500h600v-160H180v160Zm220 220h160v-160H400v160Zm0 220h160v-160H400v160ZM180-400h160v-160H180v160Zm440 0h160v-160H620v160ZM180-180h160v-160H180v160Zm440 0h160v-160H620v160Z\"/>\n",
              "  </svg>\n",
              "    </button>\n",
              "\n",
              "  <style>\n",
              "    .colab-df-container {\n",
              "      display:flex;\n",
              "      gap: 12px;\n",
              "    }\n",
              "\n",
              "    .colab-df-convert {\n",
              "      background-color: #E8F0FE;\n",
              "      border: none;\n",
              "      border-radius: 50%;\n",
              "      cursor: pointer;\n",
              "      display: none;\n",
              "      fill: #1967D2;\n",
              "      height: 32px;\n",
              "      padding: 0 0 0 0;\n",
              "      width: 32px;\n",
              "    }\n",
              "\n",
              "    .colab-df-convert:hover {\n",
              "      background-color: #E2EBFA;\n",
              "      box-shadow: 0px 1px 2px rgba(60, 64, 67, 0.3), 0px 1px 3px 1px rgba(60, 64, 67, 0.15);\n",
              "      fill: #174EA6;\n",
              "    }\n",
              "\n",
              "    .colab-df-buttons div {\n",
              "      margin-bottom: 4px;\n",
              "    }\n",
              "\n",
              "    [theme=dark] .colab-df-convert {\n",
              "      background-color: #3B4455;\n",
              "      fill: #D2E3FC;\n",
              "    }\n",
              "\n",
              "    [theme=dark] .colab-df-convert:hover {\n",
              "      background-color: #434B5C;\n",
              "      box-shadow: 0px 1px 3px 1px rgba(0, 0, 0, 0.15);\n",
              "      filter: drop-shadow(0px 1px 2px rgba(0, 0, 0, 0.3));\n",
              "      fill: #FFFFFF;\n",
              "    }\n",
              "  </style>\n",
              "\n",
              "    <script>\n",
              "      const buttonEl =\n",
              "        document.querySelector('#df-8538b71c-583f-40da-a332-d4ee368dbf71 button.colab-df-convert');\n",
              "      buttonEl.style.display =\n",
              "        google.colab.kernel.accessAllowed ? 'block' : 'none';\n",
              "\n",
              "      async function convertToInteractive(key) {\n",
              "        const element = document.querySelector('#df-8538b71c-583f-40da-a332-d4ee368dbf71');\n",
              "        const dataTable =\n",
              "          await google.colab.kernel.invokeFunction('convertToInteractive',\n",
              "                                                    [key], {});\n",
              "        if (!dataTable) return;\n",
              "\n",
              "        const docLinkHtml = 'Like what you see? Visit the ' +\n",
              "          '<a target=\"_blank\" href=https://colab.research.google.com/notebooks/data_table.ipynb>data table notebook</a>'\n",
              "          + ' to learn more about interactive tables.';\n",
              "        element.innerHTML = '';\n",
              "        dataTable['output_type'] = 'display_data';\n",
              "        await google.colab.output.renderOutput(dataTable, element);\n",
              "        const docLink = document.createElement('div');\n",
              "        docLink.innerHTML = docLinkHtml;\n",
              "        element.appendChild(docLink);\n",
              "      }\n",
              "    </script>\n",
              "  </div>\n",
              "\n",
              "    </div>\n",
              "  </div>\n"
            ]
          },
          "metadata": {},
          "execution_count": 96
        }
      ]
    },
    {
      "cell_type": "code",
      "source": [
        "# Renomear as colunas\n",
        "df.rename(columns=lambda x: x.strip().replace(' ', '_').lower(), inplace=True)"
      ],
      "metadata": {
        "id": "-NGEagbYAM6j"
      },
      "execution_count": 97,
      "outputs": []
    },
    {
      "cell_type": "code",
      "source": [
        "# Converter colunas do tipo com o indicativo de 'rateio' para float\n",
        "colunas_rateio = df.columns[df.columns.str.startswith('rateio')]\n",
        "\n",
        "for coluna in colunas_rateio:\n",
        "    # Forçar a conversão dos valores para string\n",
        "    df[coluna] = df[coluna].astype(str)\n",
        "\n",
        "    # Condição para manter valores zero (0)\n",
        "    condicao = df[coluna].str.isnumeric() | (df[coluna] == '0')\n",
        "\n",
        "    # Converter apenas os valores válidos para float\n",
        "    df[coluna] = pd.to_numeric(df[coluna], errors='coerce')\n",
        "\n",
        "    # Preencher NaN (valores ausentes) com zero (0)\n",
        "    df.loc[~condicao, coluna] = 0\n",
        "\n",
        "df['data_sorteio'] = pd.to_datetime(df['data_sorteio'], format='%d/%m/%Y')"
      ],
      "metadata": {
        "id": "Je5KOyopBrb0"
      },
      "execution_count": 98,
      "outputs": []
    },
    {
      "cell_type": "code",
      "source": [
        "df.rename(columns={'cidade_/_uf': 'UF'}, inplace=True)\n",
        "\n",
        "num_linhas_depois = df.shape[0]\n",
        "print(f\"Número de linhas antes da remoção: {num_linhas_depois}\")"
      ],
      "metadata": {
        "colab": {
          "base_uri": "https://localhost:8080/"
        },
        "id": "EDRGY1H2ECwL",
        "outputId": "6931f684-f49c-46ef-82cd-d8f3396bfb9c"
      },
      "execution_count": 103,
      "outputs": [
        {
          "output_type": "stream",
          "name": "stdout",
          "text": [
            "Número de linhas antes da remoção: 2894\n"
          ]
        }
      ]
    },
    {
      "cell_type": "code",
      "source": [
        "# Preenchendo as células vazias da coluna UF e observação\n",
        "mensagem_acertadores = \"Não há ganhadores dos 15 números\"\n",
        "df['UF'].fillna(mensagem_acertadores, inplace=True)\n",
        "\n",
        "mensagem_obs = \"Não há observações relevantes para este sorteio\"\n",
        "df['observação'].fillna(mensagem_obs, inplace=True)\n",
        "\n",
        "df.info()"
      ],
      "metadata": {
        "colab": {
          "base_uri": "https://localhost:8080/"
        },
        "id": "Y4esz_jxKT0e",
        "outputId": "5c6e451f-2348-49fb-8376-f3288a5d67b3"
      },
      "execution_count": 102,
      "outputs": [
        {
          "output_type": "stream",
          "name": "stdout",
          "text": [
            "<class 'pandas.core.frame.DataFrame'>\n",
            "RangeIndex: 2894 entries, 0 to 2893\n",
            "Data columns (total 33 columns):\n",
            " #   Column                                                 Non-Null Count  Dtype         \n",
            "---  ------                                                 --------------  -----         \n",
            " 0   concurso                                               2894 non-null   int64         \n",
            " 1   data_sorteio                                           2894 non-null   datetime64[ns]\n",
            " 2   bola1                                                  2894 non-null   int64         \n",
            " 3   bola2                                                  2894 non-null   int64         \n",
            " 4   bola3                                                  2894 non-null   int64         \n",
            " 5   bola4                                                  2894 non-null   int64         \n",
            " 6   bola5                                                  2894 non-null   int64         \n",
            " 7   bola6                                                  2894 non-null   int64         \n",
            " 8   bola7                                                  2894 non-null   int64         \n",
            " 9   bola8                                                  2894 non-null   int64         \n",
            " 10  bola9                                                  2894 non-null   int64         \n",
            " 11  bola10                                                 2894 non-null   int64         \n",
            " 12  bola11                                                 2894 non-null   int64         \n",
            " 13  bola12                                                 2894 non-null   int64         \n",
            " 14  bola13                                                 2894 non-null   int64         \n",
            " 15  bola14                                                 2894 non-null   int64         \n",
            " 16  bola15                                                 2894 non-null   int64         \n",
            " 17  ganhadores_15_acertos                                  2894 non-null   int64         \n",
            " 18  UF                                                     2894 non-null   object        \n",
            " 19  rateio_15_acertos                                      2894 non-null   float64       \n",
            " 20  ganhadores_14_acertos                                  2894 non-null   int64         \n",
            " 21  rateio_14_acertos                                      2894 non-null   float64       \n",
            " 22  ganhadores_13_acertos                                  2894 non-null   int64         \n",
            " 23  rateio_13_acertos                                      2894 non-null   float64       \n",
            " 24  ganhadores_12_acertos                                  2894 non-null   int64         \n",
            " 25  rateio_12_acertos                                      2894 non-null   float64       \n",
            " 26  ganhadores_11_acertos                                  2894 non-null   int64         \n",
            " 27  rateio_11_acertos                                      2894 non-null   float64       \n",
            " 28  acumulado_15_acertos                                   2894 non-null   object        \n",
            " 29  arrecadacao_total                                      2894 non-null   object        \n",
            " 30  estimativa_prêmio                                      2894 non-null   object        \n",
            " 31  acumulado_sorteio_especial_lotofácil_da_independência  2894 non-null   object        \n",
            " 32  observação                                             2894 non-null   object        \n",
            "dtypes: datetime64[ns](1), float64(5), int64(21), object(6)\n",
            "memory usage: 746.2+ KB\n"
          ]
        }
      ]
    },
    {
      "cell_type": "code",
      "source": [
        "# COnforme observado nas informações acima para selecionar as apenas as colunas das bolas\n",
        "# será os índices de coluna 2 a 17 já que o último é excludente\n",
        "colunas_selecionadas = df.iloc[:, 2:17]\n",
        "\n",
        "# Inicializar um dicionário para armazenar a contagem de frequência de cada número\n",
        "frequencia_numeros = {}\n",
        "\n",
        "# Iterar pelas colunas e contar a frequência de cada número\n",
        "for coluna in colunas_selecionadas.columns:\n",
        "    contagem = colunas_selecionadas[coluna].value_counts().sort_index().to_dict()\n",
        "\n",
        "    # Adicionar a contagem de frequência da coluna ao dicionário global\n",
        "    for numero, frequencia in contagem.items():\n",
        "        if numero not in frequencia_numeros:\n",
        "            frequencia_numeros[numero] = 0\n",
        "        frequencia_numeros[numero] += frequencia\n",
        "\n",
        "# Organizar os números com base na frequência (do mais frequente para o menos frequente)\n",
        "numeros_ordenados = sorted(frequencia_numeros.items(), key=lambda x: x[1], reverse=True)\n",
        "\n",
        "# Exibir os números organizados\n",
        "for numero, frequencia in numeros_ordenados:\n",
        "    print(f'Número {numero}: {frequencia} vezes')"
      ],
      "metadata": {
        "colab": {
          "base_uri": "https://localhost:8080/"
        },
        "id": "J3Wi9aPxRDT7",
        "outputId": "897f0fac-1ac0-44d5-c508-45cdc877928c"
      },
      "execution_count": 148,
      "outputs": [
        {
          "output_type": "stream",
          "name": "stdout",
          "text": [
            "Número 20: 1813 vezes\n",
            "Número 10: 1802 vezes\n",
            "Número 11: 1789 vezes\n",
            "Número 25: 1784 vezes\n",
            "Número 13: 1769 vezes\n",
            "Número 14: 1760 vezes\n",
            "Número 24: 1760 vezes\n",
            "Número 5: 1749 vezes\n",
            "Número 3: 1748 vezes\n",
            "Número 12: 1742 vezes\n",
            "Número 4: 1739 vezes\n",
            "Número 22: 1738 vezes\n",
            "Número 1: 1734 vezes\n",
            "Número 9: 1734 vezes\n",
            "Número 2: 1731 vezes\n",
            "Número 19: 1728 vezes\n",
            "Número 18: 1725 vezes\n",
            "Número 21: 1721 vezes\n",
            "Número 15: 1717 vezes\n",
            "Número 17: 1706 vezes\n",
            "Número 7: 1700 vezes\n",
            "Número 23: 1700 vezes\n",
            "Número 6: 1686 vezes\n",
            "Número 8: 1672 vezes\n",
            "Número 16: 1663 vezes\n"
          ]
        }
      ]
    },
    {
      "cell_type": "code",
      "source": [
        "# Converter a lista de frequência em um DataFrame\n",
        "df_frequencia = pd.DataFrame(numeros_ordenados, columns=['Número', 'Frequência'])\n",
        "\n",
        "# Redimensionar o DataFrame para que os números sejam o índice\n",
        "df_frequencia.set_index('Número', inplace=True)\n",
        "\n",
        "# Criar um mapa de calor\n",
        "plt.figure(figsize=(12, 6))\n",
        "sns.heatmap(df_frequencia, annot=True, cmap='YlGnBu', fmt='d', cbar=False)\n",
        "plt.xlabel('Frequência')\n",
        "plt.ylabel('Número Sorteado')\n",
        "plt.title('Mapa de Calor da Frequência dos Números Sorteados na Lotofácil')\n",
        "plt.show()"
      ],
      "metadata": {
        "colab": {
          "base_uri": "https://localhost:8080/",
          "height": 534
        },
        "id": "TC-Owwt9jk0y",
        "outputId": "6120edea-fa39-4980-fe1d-c02caabda857"
      },
      "execution_count": 149,
      "outputs": [
        {
          "output_type": "display_data",
          "data": {
            "text/plain": [
              "<Figure size 1200x600 with 1 Axes>"
            ],
            "image/png": "[encoded data removed]"
          },
          "metadata": {}
        }
      ]
    },
    {
      "cell_type": "code",
      "source": [
        "# Separar números e frequências ordenados\n",
        "numeros, frequencias = zip(*numeros_ordenados)\n",
        "\n",
        "# Criar um gráfico de barras com informações ao passar o mouse\n",
        "plt.figure(figsize=(12, 6))\n",
        "bars = plt.bar(numeros, frequencias, color='skyblue')\n",
        "plt.xlabel('Número Sorteado')\n",
        "plt.ylabel('Frequência')\n",
        "plt.title('Contagem de Frequência dos Números Sorteados na Lotofácil')\n",
        "\n",
        "# Adicionar informações ao passar o mouse sobre as barras\n",
        "for bar in bars:\n",
        "    height = bar.get_height()\n",
        "    plt.annotate(f'{int(height)}', xy=(bar.get_x() + bar.get_width() / 2, height),\n",
        "                 xytext=(0, 3), textcoords='offset points', ha='center', fontsize=8)\n",
        "\n",
        "plt.xticks(rotation=0)\n",
        "plt.show()"
      ],
      "metadata": {
        "colab": {
          "base_uri": "https://localhost:8080/",
          "height": 585
        },
        "id": "ZB_nQzKZel9c",
        "outputId": "bc863ac8-16a7-4dcd-f37f-4613ffbdad31"
      },
      "execution_count": 141,
      "outputs": [
        {
          "output_type": "display_data",
          "data": {
            "text/plain": [
              "<Figure size 1200x600 with 1 Axes>"
            ],
            "image/png": "[encoded data removed]"
          },
          "metadata": {}
        }
      ]
    }
  ]
}